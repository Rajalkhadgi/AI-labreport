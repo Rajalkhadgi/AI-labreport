{
 "cells": [
  {
   "cell_type": "code",
   "execution_count": 1,
   "metadata": {
    "colab": {
     "base_uri": "https://localhost:8080/",
     "height": 1000
    },
    "executionInfo": {
     "elapsed": 541,
     "status": "error",
     "timestamp": 1727084981419,
     "user": {
      "displayName": "prizess_bs",
      "userId": "05834432123457450151"
     },
     "user_tz": -345
    },
    "id": "qvN0H7IbSOVD",
    "outputId": "800f7d8c-8b4b-4822-df68-41dd1a3c3236"
   },
   "outputs": [
    {
     "name": "stdout",
     "output_type": "stream",
     "text": [
      "  P      Q    #  (P => Q) => P\n",
      "##############################\n",
      "True   True   #      True     \n",
      "True   False  #      True     \n",
      "False  True   #      False    \n",
      "False  False  #      False    \n",
      "\n",
      "Contingency =  True\n",
      "Contradiction =  False\n",
      "Tautology =  False\n",
      "  P      Q      R    #  ((P ^ Q) => R) <=> (P => (Q => R))\n",
      "##########################################################\n",
      "True   True   True   #                 True               \n",
      "True   True   False  #                 True               \n",
      "True   False  True   #                 True               \n",
      "True   False  False  #                 True               \n",
      "False  True   True   #                 True               \n",
      "False  True   False  #                 True               \n",
      "False  False  True   #                 True               \n",
      "False  False  False  #                 True               \n",
      "\n",
      "Tautology =  True\n",
      "Contingency =  True\n",
      "Contradiction =  False\n",
      "Tautology =  False\n"
     ]
    }
   ],
   "source": [
    "from logics import *\n",
    "p,q,r=vars('P','Q','R')\n",
    "p\n",
    "Proposition(p)\n",
    "\n",
    "\n",
    "#\"if p implies q, then p\"\n",
    "formula=(p>>q)>>p\n",
    "formula.print_truth_table()\n",
    "print(\"Contingency = \", formula.is_contingency())\n",
    "print(\"Contradiction = \", formula.is_contradiction())\n",
    "print(\"Tautology = \", formula.is_tautology())\n",
    "\n",
    "\n",
    "#((p & q) implies r) is logically equivalent to (p implies (q implies r))\n",
    "formula1=((p&q)>>r).iff(p>>(q>>r))\n",
    "formula1.print_truth_table()\n",
    "print(\"Tautology = \",formula1.is_tautology())\n",
    "print(\"Contingency = \", formula.is_contingency())\n",
    "print(\"Contradiction = \", formula.is_contradiction())\n",
    "print(\"Tautology = \", formula.is_tautology())"
   ]
  },
  {
   "cell_type": "code",
   "execution_count": null,
   "metadata": {},
   "outputs": [],
   "source": []
  }
 ],
 "metadata": {
  "colab": {
   "authorship_tag": "ABX9TyN1L/ZmihmvP5jgWpqoM69/",
   "provenance": []
  },
  "kernelspec": {
   "display_name": "Python 3 (ipykernel)",
   "language": "python",
   "name": "python3"
  },
  "language_info": {
   "codemirror_mode": {
    "name": "ipython",
    "version": 3
   },
   "file_extension": ".py",
   "mimetype": "text/x-python",
   "name": "python",
   "nbconvert_exporter": "python",
   "pygments_lexer": "ipython3",
   "version": "3.12.4"
  }
 },
 "nbformat": 4,
 "nbformat_minor": 4
}
