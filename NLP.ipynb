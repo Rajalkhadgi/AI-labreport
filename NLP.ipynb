{
 "cells": [
  {
   "cell_type": "code",
   "execution_count": 2,
   "metadata": {
    "colab": {
     "base_uri": "https://localhost:8080/"
    },
    "id": "9UNoJYPZ2j9V",
    "outputId": "4072f814-92e0-49b1-a45b-0d70a2b648e8",
    "scrolled": true
   },
   "outputs": [
    {
     "name": "stderr",
     "output_type": "stream",
     "text": [
      "[nltk_data] Downloading package punkt to\n",
      "[nltk_data]     /Users/prijeshbikramshahi/nltk_data...\n",
      "[nltk_data]   Package punkt is already up-to-date!\n",
      "[nltk_data] Downloading package vader_lexicon to\n",
      "[nltk_data]     /Users/prijeshbikramshahi/nltk_data...\n",
      "[nltk_data]   Package vader_lexicon is already up-to-date!\n",
      "[nltk_data] Downloading package maxent_ne_chunker to\n",
      "[nltk_data]     /Users/prijeshbikramshahi/nltk_data...\n",
      "[nltk_data]   Package maxent_ne_chunker is already up-to-date!\n",
      "[nltk_data] Downloading package words to\n",
      "[nltk_data]     /Users/prijeshbikramshahi/nltk_data...\n",
      "[nltk_data]   Package words is already up-to-date!\n",
      "[nltk_data] Downloading package movie_reviews to\n",
      "[nltk_data]     /Users/prijeshbikramshahi/nltk_data...\n",
      "[nltk_data]   Unzipping corpora/movie_reviews.zip.\n"
     ]
    }
   ],
   "source": [
    "import nltk\n",
    "from nltk.tokenize import sent_tokenize, word_tokenize\n",
    "from nltk.sentiment import SentimentIntensityAnalyzer\n",
    "from nltk.corpus import stopwords, movie_reviews\n",
    "from nltk import pos_tag, ne_chunk\n",
    "from nltk import FreqDist\n",
    "import random\n",
    "\n",
    "# Download necessary resources\n",
    "nltk.download('punkt')\n",
    "nltk.download('vader_lexicon')\n",
    "nltk.download('maxent_ne_chunker')\n",
    "nltk.download('words')\n",
    "nltk.download('movie_reviews')\n",
    "\n",
    "# Example string\n",
    "example_string = \"CSIT is a popular undergraduate program in Nepal that equips students with the skills to excel in the field of computer science and information technology.\"\n",
    "\n"
   ]
  },
  {
   "cell_type": "code",
   "execution_count": 3,
   "metadata": {
    "colab": {
     "base_uri": "https://localhost:8080/"
    },
    "id": "XKX1WTRV3I8Q",
    "outputId": "01c2e9a0-f846-4a25-b35f-7d845af39cf7"
   },
   "outputs": [
    {
     "name": "stdout",
     "output_type": "stream",
     "text": [
      "Sentence Tokenization:\n",
      "['CSIT is a popular undergraduate program in Nepal that equips students with the skills to excel in the field of computer science and information technology.']\n",
      "Word Tokenization:\n",
      "['CSIT', 'is', 'a', 'popular', 'undergraduate', 'program', 'in', 'Nepal', 'that', 'equips', 'students', 'with', 'the', 'skills', 'to', 'excel', 'in', 'the', 'field', 'of', 'computer', 'science', 'and', 'information', 'technology', '.']\n"
     ]
    }
   ],
   "source": [
    "\n",
    "# Tokenization\n",
    "print(\"Sentence Tokenization:\")\n",
    "print(sent_tokenize(example_string))\n",
    "print(\"Word Tokenization:\")\n",
    "words_in_example = word_tokenize(example_string)\n",
    "print(words_in_example)\n"
   ]
  },
  {
   "cell_type": "code",
   "execution_count": 4,
   "metadata": {
    "colab": {
     "base_uri": "https://localhost:8080/",
     "height": 1000
    },
    "id": "YdHqXy-w3Ktt",
    "outputId": "b3f3d43a-f38f-4034-fdd0-691872e546a1"
   },
   "outputs": [
    {
     "name": "stdout",
     "output_type": "stream",
     "text": [
      "Filtered List (without stopwords):\n",
      "['CSIT', 'popular', 'undergraduate', 'program', 'Nepal', 'equips', 'students', 'skills', 'excel', 'field', 'computer', 'science', 'information', 'technology', '.']\n"
     ]
    }
   ],
   "source": [
    "\n",
    "# Stopword removal\n",
    "stop_words = set(stopwords.words(\"english\"))\n",
    "filtered_list = [word for word in words_in_example if word.casefold() not in stop_words]\n",
    "print(\"Filtered List (without stopwords):\")\n",
    "print(filtered_list)\n"
   ]
  },
  {
   "cell_type": "code",
   "execution_count": 5,
   "metadata": {
    "colab": {
     "base_uri": "https://localhost:8080/"
    },
    "id": "bN_Rykrz3Mkx",
    "outputId": "1626a449-5afb-44f1-8d0e-7b4e31797f5b"
   },
   "outputs": [
    {
     "name": "stdout",
     "output_type": "stream",
     "text": [
      "Sentiment Analysis Scores:\n",
      "{'neg': 0.0, 'neu': 0.549, 'pos': 0.451, 'compound': 0.6249}\n"
     ]
    }
   ],
   "source": [
    "\n",
    "# Sentiment Analysis\n",
    "sia = SentimentIntensityAnalyzer()\n",
    "sentiment_text = \"Python is an awesome programming language.\"\n",
    "print(\"Sentiment Analysis Scores:\")\n",
    "print(sia.polarity_scores(sentiment_text))\n"
   ]
  },
  {
   "cell_type": "code",
   "execution_count": 6,
   "metadata": {
    "colab": {
     "base_uri": "https://localhost:8080/",
     "height": 721
    },
    "id": "FE0sPQ0G3YnW",
    "outputId": "8a427b89-c211-4e0c-a069-6c487177a2d4"
   },
   "outputs": [
    {
     "name": "stdout",
     "output_type": "stream",
     "text": [
      "Named Entities:\n",
      "(S\n",
      "  It/PRP\n",
      "  's/VBZ\n",
      "  a/DT\n",
      "  dangerous/JJ\n",
      "  business/NN\n",
      "  ,/,\n",
      "  (PERSON Frodo/NNP)\n",
      "  ,/,\n",
      "  going/VBG\n",
      "  out/RP\n",
      "  your/PRP$\n",
      "  door/NN\n",
      "  ./.)\n"
     ]
    }
   ],
   "source": [
    "\n",
    "# Named Entity Recognition (NER)\n",
    "ner_text = \"\"\"It's a dangerous business, Frodo, \n",
    "going out your door.\"\"\"\n",
    "words_ner = word_tokenize(ner_text)\n",
    "tagged_words = pos_tag(words_ner)\n",
    "named_entities = ne_chunk(tagged_words)\n",
    "print(\"Named Entities:\")\n",
    "print(named_entities)\n"
   ]
  },
  {
   "cell_type": "code",
   "execution_count": 20,
   "metadata": {
    "id": "Zvhz3u7j3aOu"
   },
   "outputs": [
    {
     "name": "stdout",
     "output_type": "stream",
     "text": [
      "Frequency Distribution Most Common Words:\n",
      "[(',', 3), ('are', 2), ('the', 2), ('world', 2), ('is', 2), ('.', 2), ('Untrained', 1), ('neural', 1), ('network', 1), ('models', 1), ('much', 1), ('like', 1), ('new-born', 1), ('babies', 1), (':', 1), ('They', 1), ('created', 1), ('ignorant', 1), ('of', 1), ('(', 1)]\n"
     ]
    }
   ],
   "source": [
    "\n",
    "# Frequency Distribution\n",
    "frq_sen = \"\"\"Untrained neural network models are much like new-born babies: \n",
    "They are created ignorant of the world (if considering tabula rasa epistemological theory), \n",
    "and it is only through exposure to the world, i.e. a posteriori knowledge, \n",
    "that their ignorance is slowly revised.\"\"\"\n",
    "words_freq = word_tokenize(frq_sen)\n",
    "frequency_distribution = FreqDist(words_freq)\n",
    "\n",
    "print(\"Frequency Distribution Most Common Words:\")\n",
    "print(frequency_distribution.most_common(20))\n"
   ]
  },
  {
   "cell_type": "code",
   "execution_count": 8,
   "metadata": {
    "id": "8Vto1vCh3byN"
   },
   "outputs": [
    {
     "name": "stdout",
     "output_type": "stream",
     "text": [
      "Accuracy of Classifier: 0.714\n"
     ]
    }
   ],
   "source": [
    "\n",
    "# Text Classification\n",
    "# Load movie reviews\n",
    "documents = [(list(movie_reviews.words(fileid)), category)\n",
    "             for category in movie_reviews.categories()\n",
    "             for fileid in movie_reviews.fileids(category)]\n",
    "random.shuffle(documents)\n",
    "\n",
    "# Create a feature extractor\n",
    "def extract_features(words):\n",
    "    return {word: True for word in words}\n",
    "\n",
    "# Prepare training data\n",
    "featuresets = [(extract_features(words), category) for (words, category) in documents]\n",
    "train_set, test_set = featuresets[:1500], featuresets[1500:]\n",
    "\n",
    "# Train Naive Bayes classifier\n",
    "classifier = nltk.NaiveBayesClassifier.train(train_set)\n",
    "\n",
    "# Evaluate the classifier\n",
    "accuracy = nltk.classify.accuracy(classifier, test_set)\n",
    "print(\"Accuracy of Classifier:\", accuracy)\n"
   ]
  },
  {
   "cell_type": "code",
   "execution_count": 9,
   "metadata": {
    "id": "UeasuZJy3enc"
   },
   "outputs": [
    {
     "name": "stdout",
     "output_type": "stream",
     "text": [
      "Classification of New Review: pos\n"
     ]
    }
   ],
   "source": [
    "\n",
    "# Classify a new review\n",
    "new_review = \"The movie was fantastic and I loved the characters.\"\n",
    "new_features = extract_features(word_tokenize(new_review))\n",
    "print(\"Classification of New Review:\", classifier.classify(new_features))"
   ]
  },
  {
   "cell_type": "code",
   "execution_count": null,
   "metadata": {},
   "outputs": [],
   "source": []
  },
  {
   "cell_type": "code",
   "execution_count": null,
   "metadata": {},
   "outputs": [],
   "source": []
  },
  {
   "cell_type": "code",
   "execution_count": null,
   "metadata": {},
   "outputs": [],
   "source": []
  }
 ],
 "metadata": {
  "colab": {
   "provenance": []
  },
  "kernelspec": {
   "display_name": "Python 3 (ipykernel)",
   "language": "python",
   "name": "python3"
  },
  "language_info": {
   "codemirror_mode": {
    "name": "ipython",
    "version": 3
   },
   "file_extension": ".py",
   "mimetype": "text/x-python",
   "name": "python",
   "nbconvert_exporter": "python",
   "pygments_lexer": "ipython3",
   "version": "3.12.4"
  }
 },
 "nbformat": 4,
 "nbformat_minor": 4
}
